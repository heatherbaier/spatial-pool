{
 "metadata": {
  "language_info": {
   "codemirror_mode": {
    "name": "ipython",
    "version": 3
   },
   "file_extension": ".py",
   "mimetype": "text/x-python",
   "name": "python",
   "nbconvert_exporter": "python",
   "pygments_lexer": "ipython3",
   "version": "3.7.10"
  },
  "orig_nbformat": 2,
  "kernelspec": {
   "name": "python3",
   "display_name": "Python 3",
   "language": "python"
  }
 },
 "nbformat": 4,
 "nbformat_minor": 2,
 "cells": [
  {
   "cell_type": "code",
   "execution_count": 1,
   "metadata": {},
   "outputs": [],
   "source": [
    "import geopandas as gpd"
   ]
  },
  {
   "cell_type": "code",
   "execution_count": 4,
   "metadata": {
    "tags": []
   },
   "outputs": [
    {
     "output_type": "execute_result",
     "data": {
      "text/plain": [
       "     shapeID                                           geometry\n",
       "0  484001001  POLYGON ((-102.15272 22.08962, -102.15100 22.0...\n",
       "1  484001002  POLYGON ((-101.99941 22.21951, -101.99941 22.2...\n",
       "2  484001003  POLYGON ((-102.68569 22.09963, -102.69087 22.0...\n",
       "3  484001004  POLYGON ((-102.25320 22.37449, -102.25308 22.3...\n",
       "4  484001005  POLYGON ((-102.33476 22.05047, -102.33348 22.0..."
      ],
      "text/html": "<div>\n<style scoped>\n    .dataframe tbody tr th:only-of-type {\n        vertical-align: middle;\n    }\n\n    .dataframe tbody tr th {\n        vertical-align: top;\n    }\n\n    .dataframe thead th {\n        text-align: right;\n    }\n</style>\n<table border=\"1\" class=\"dataframe\">\n  <thead>\n    <tr style=\"text-align: right;\">\n      <th></th>\n      <th>shapeID</th>\n      <th>geometry</th>\n    </tr>\n  </thead>\n  <tbody>\n    <tr>\n      <th>0</th>\n      <td>484001001</td>\n      <td>POLYGON ((-102.15272 22.08962, -102.15100 22.0...</td>\n    </tr>\n    <tr>\n      <th>1</th>\n      <td>484001002</td>\n      <td>POLYGON ((-101.99941 22.21951, -101.99941 22.2...</td>\n    </tr>\n    <tr>\n      <th>2</th>\n      <td>484001003</td>\n      <td>POLYGON ((-102.68569 22.09963, -102.69087 22.0...</td>\n    </tr>\n    <tr>\n      <th>3</th>\n      <td>484001004</td>\n      <td>POLYGON ((-102.25320 22.37449, -102.25308 22.3...</td>\n    </tr>\n    <tr>\n      <th>4</th>\n      <td>484001005</td>\n      <td>POLYGON ((-102.33476 22.05047, -102.33348 22.0...</td>\n    </tr>\n  </tbody>\n</table>\n</div>"
     },
     "metadata": {},
     "execution_count": 4
    }
   ],
   "source": [
    "gdf = gpd.read_file(\"./data/geo2_mx1960_2015/geo2_mx1960_2015.shp\")\n",
    "gdf = gdf[[\"GEOLEVEL2\", \"geometry\"]]\n",
    "gdf.columns = [\"shapeID\", \"geometry\"]\n",
    "gdf.head()"
   ]
  },
  {
   "cell_type": "code",
   "execution_count": 5,
   "metadata": {},
   "outputs": [],
   "source": [
    "gdf.to_file(\"./data/MEX/ipumns_shp.shp\")"
   ]
  },
  {
   "cell_type": "code",
   "execution_count": null,
   "metadata": {},
   "outputs": [],
   "source": []
  }
 ]
}