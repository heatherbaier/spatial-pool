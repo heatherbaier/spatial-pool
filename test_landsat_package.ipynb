{
 "metadata": {
  "language_info": {
   "codemirror_mode": {
    "name": "ipython",
    "version": 3
   },
   "file_extension": ".py",
   "mimetype": "text/x-python",
   "name": "python",
   "nbconvert_exporter": "python",
   "pygments_lexer": "ipython3",
   "version": "3.7.10"
  },
  "orig_nbformat": 2,
  "kernelspec": {
   "name": "python3710jvsc74a57bd06e6e7e11ff29b7ea88d93fdd1bf54ac8bd20e793b837d22d51eef8412ed09bee",
   "display_name": "Python 3.7.10 64-bit ('caoe': conda)"
  }
 },
 "nbformat": 4,
 "nbformat_minor": 2,
 "cells": [
  {
   "cell_type": "code",
   "execution_count": 1,
   "metadata": {},
   "outputs": [
    {
     "output_type": "stream",
     "name": "stderr",
     "text": [
      "/home/hbaier/anaconda3/envs/caoe/lib/python3.7/site-packages/geopandas/_compat.py:110: UserWarning: The Shapely GEOS version (3.8.0-CAPI-1.13.1 ) is incompatible with the GEOS version PyGEOS was compiled with (3.9.0-CAPI-1.16.2). Conversions between both will be slow.\n  shapely_geos_version, geos_capi_version_string\n"
     ]
    }
   ],
   "source": [
    "import landsat_prep as lp"
   ]
  },
  {
   "cell_type": "code",
   "execution_count": 2,
   "metadata": {},
   "outputs": [
    {
     "output_type": "stream",
     "name": "stdout",
     "text": [
      "Making request to:  https://www.geoboundaries.org/gbRequest.html?ISO=MEX&ADM=ADM2\n",
      "Downloading data from:  https://geoboundaries.org/data/geoBoundaries-3_0_0/MEX/ADM2/geoBoundaries-3_0_0-MEX-ADM2-all.zip\n",
      "Downloading data into:  ./data/MEX\n",
      "Done downloading boundary data.\n"
     ]
    }
   ],
   "source": [
    "lp.downloadGB(\"MEX\", \"2\")"
   ]
  },
  {
   "cell_type": "code",
   "execution_count": 11,
   "metadata": {},
   "outputs": [],
   "source": [
    "GB_PATH = \"./data/MEX/MEX_ADM2_fixedInternalTopology.shp\"\n",
    "ISO = \"MEX\"\n",
    "ADM_ID = \"MEX-ADM2-1590546715-B615\"\n",
    "IC = \"LANDSAT/LT05/C01/T1\""
   ]
  },
  {
   "cell_type": "code",
   "execution_count": 8,
   "metadata": {},
   "outputs": [
    {
     "output_type": "stream",
     "name": "stdout",
     "text": [
      "./data/MEX-ADM2-1590546715-B7\nCreating imagery bounding boxes shapefile in  ./data/MEX-ADM2-1590546715-B7\nMEX-ADM2-1590546715-B7\nDone creating imagery bounding boxes.\n"
     ]
    }
   ],
   "source": [
    "lp.create_single_imagery_boxes(gb_path = GB_PATH, \n",
    "                            iso = ISO, \n",
    "                            adm_id = ADM_ID)"
   ]
  },
  {
   "cell_type": "code",
   "execution_count": 9,
   "metadata": {},
   "outputs": [
    {
     "output_type": "stream",
     "name": "stdout",
     "text": [
      "0  has  3  images available in  2010\n",
      "1  has  3  images available in  2010\n",
      "2  has  3  images available in  2010\n",
      "3  has  3  images available in  2010\n",
      "4  has  3  images available in  2010\n",
      "5  has  3  images available in  2010\n",
      "6  has  3  images available in  2010\n",
      "7  has  3  images available in  2010\n",
      "8  has  3  images available in  2010\n",
      "9  has  3  images available in  2010\n",
      "10  has  3  images available in  2010\n",
      "11  has  3  images available in  2010\n",
      "12  has  3  images available in  2010\n"
     ]
    }
   ],
   "source": [
    "lp.download_imagery(shapeID = ADM_ID, \n",
    "                 year = \"2010\", \n",
    "                 ic = IC, \n",
    "                 month = \"1\", \n",
    "                 iso = ISO)"
   ]
  },
  {
   "cell_type": "code",
   "execution_count": 10,
   "metadata": {},
   "outputs": [
    {
     "output_type": "stream",
     "name": "stdout",
     "text": [
      "Image  0  of  13 ---- Month: May\n",
      "Image  1  of  13 ---- Month: May\n",
      "Image  2  of  13 ---- Month: May\n",
      "Image  3  of  13 ---- Month: May\n",
      "Image  4  of  13 ---- Month: May\n",
      "Image  5  of  13 ---- Month: May\n",
      "Image  6  of  13 ---- Month: May\n",
      "Image  7  of  13 ---- Month: May\n",
      "Image  8  of  13 ---- Month: May\n",
      "Image  9  of  13 ---- Month: May\n",
      "Image  10  of  13 ---- Month: May\n",
      "Image  11  of  13 ---- Month: May\n",
      "Image  12  of  13 ---- Month: May\n"
     ]
    }
   ],
   "source": [
    "lp.save_pngs(shapeID = ADM_ID)"
   ]
  },
  {
   "cell_type": "code",
   "execution_count": 12,
   "metadata": {},
   "outputs": [
    {
     "output_type": "stream",
     "name": "stdout",
     "text": [
      "./data/MEX-ADM2-1590546715-B615\n",
      "Creating imagery bounding boxes shapefile in  ./data/MEX-ADM2-1590546715-B615\n",
      "MEX-ADM2-1590546715-B615\n",
      "Done creating imagery bounding boxes.\n",
      "0  has  3  images available in  2010\n",
      "1  has  2  images available in  2010\n",
      "2  has  3  images available in  2010\n",
      "3  has  2  images available in  2010\n",
      "Image  0  of  4 ---- Month: May\n",
      "Image  1  of  4 ---- Month: May\n",
      "Image  2  of  4 ---- Month: May\n",
      "Image  3  of  4 ---- Month: May\n"
     ]
    }
   ],
   "source": [
    "lp.prep_landsat(GB_PATH, ISO, ADM_ID, \"2010\", \"1\", IC)"
   ]
  }
 ]
}